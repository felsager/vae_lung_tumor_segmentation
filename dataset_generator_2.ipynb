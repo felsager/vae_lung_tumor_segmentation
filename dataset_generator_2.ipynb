{
 "cells": [
  {
   "cell_type": "code",
   "execution_count": 1,
   "metadata": {},
   "outputs": [],
   "source": [
    "''' Notebook for creating VAE liver dataset. Therefore labels are not included. '''\n",
    "import torch\n",
    "import torch.nn.functional as F\n",
    "import torch.utils as U\n",
    "import torchvision.transforms as T\n",
    "from torch import Tensor\n",
    "import json\n",
    "import nibabel as nib\n",
    "import matplotlib.pyplot as plt\n",
    "import numpy as np"
   ]
  },
  {
   "cell_type": "code",
   "execution_count": 2,
   "metadata": {},
   "outputs": [],
   "source": [
    "path = 'dataset.json'\n",
    "with open(path) as f:\n",
    "    data_set = json.load(f)\n",
    "training_paths = data_set['training']"
   ]
  },
  {
   "cell_type": "code",
   "execution_count": 3,
   "metadata": {},
   "outputs": [],
   "source": [
    "d = 256 # width and height to resize to\n",
    "#p1 = int(d/4)\n",
    "#p2 = int(d/8)\n",
    "#p3 = int(d/16)\n",
    "resize_transform = T.Resize((d, d))\n",
    "#pad_transforms = [T.Pad(p1), T.Pad(p2), T.Pad(p3)]\n",
    "rand_rot_transform = T.RandomRotation(180) "
   ]
  },
  {
   "cell_type": "code",
   "execution_count": 4,
   "metadata": {},
   "outputs": [
    {
     "name": "stdout",
     "output_type": "stream",
     "text": [
      "Iteration 0/63\n",
      "Iteration 1/63\n",
      "Iteration 2/63\n",
      "Iteration 3/63\n",
      "Iteration 4/63\n",
      "Iteration 5/63\n",
      "Iteration 6/63\n",
      "Iteration 7/63\n",
      "Iteration 8/63\n",
      "Iteration 9/63\n",
      "Iteration 10/63\n",
      "Iteration 11/63\n",
      "Iteration 12/63\n",
      "Iteration 13/63\n",
      "Iteration 14/63\n",
      "Iteration 15/63\n",
      "Iteration 16/63\n",
      "Iteration 17/63\n",
      "Iteration 18/63\n",
      "Iteration 19/63\n",
      "Iteration 20/63\n",
      "Iteration 21/63\n",
      "Iteration 22/63\n",
      "Iteration 23/63\n",
      "Iteration 24/63\n",
      "Iteration 25/63\n",
      "Iteration 26/63\n",
      "Iteration 27/63\n",
      "Iteration 28/63\n",
      "Iteration 29/63\n",
      "Iteration 30/63\n",
      "Iteration 31/63\n",
      "Iteration 32/63\n",
      "Iteration 33/63\n",
      "Iteration 34/63\n",
      "Iteration 35/63\n",
      "Iteration 36/63\n",
      "Iteration 37/63\n",
      "Iteration 38/63\n",
      "Iteration 39/63\n",
      "Iteration 40/63\n",
      "Iteration 41/63\n",
      "Iteration 42/63\n",
      "Iteration 43/63\n",
      "Iteration 44/63\n",
      "Iteration 45/63\n",
      "Iteration 46/63\n",
      "Iteration 47/63\n",
      "Iteration 48/63\n",
      "Iteration 49/63\n",
      "Iteration 50/63\n",
      "Iteration 51/63\n",
      "Iteration 52/63\n",
      "Iteration 53/63\n",
      "Iteration 54/63\n",
      "Iteration 55/63\n",
      "Iteration 56/63\n",
      "Iteration 57/63\n",
      "Iteration 58/63\n",
      "Iteration 59/63\n",
      "Iteration 60/63\n",
      "Iteration 61/63\n",
      "Iteration 62/63\n"
     ]
    }
   ],
   "source": [
    "data_tensor = torch.zeros((0, d, d))\n",
    "total_paths = len(training_paths)\n",
    "\n",
    "for n, path in enumerate(training_paths):\n",
    "    print(f'Iteration {n}/{total_paths}')\n",
    "    nii_img = nib.load(path['image'])\n",
    "    nii_data = Tensor(nii_img.get_fdata())\n",
    "    # ensure scale [0; 1]\n",
    "    nii_data -= nii_data.min()\n",
    "    nii_data /= nii_data.max() # are the max the same in every data point?\n",
    "    #nii_data -= 0.5\n",
    "    #nii_data *= 2\n",
    "    nii_data = nii_data.permute(2, 0, 1) # ensure the tensor shape is (slice, rows, columns)\n",
    "    nii_data = resize_transform(nii_data)\n",
    "    data_tensor = torch.cat((data_tensor, nii_data), 0)"
   ]
  },
  {
   "cell_type": "code",
   "execution_count": 5,
   "metadata": {},
   "outputs": [],
   "source": [
    "torch.save(data_tensor, f'augmenteddata/data_chunk_unaugmented.pt')"
   ]
  },
  {
   "cell_type": "code",
   "execution_count": null,
   "metadata": {},
   "outputs": [],
   "source": []
  }
 ],
 "metadata": {
  "kernelspec": {
   "display_name": "Python 3.8.13 ('torch_environment')",
   "language": "python",
   "name": "python3"
  },
  "language_info": {
   "codemirror_mode": {
    "name": "ipython",
    "version": 3
   },
   "file_extension": ".py",
   "mimetype": "text/x-python",
   "name": "python",
   "nbconvert_exporter": "python",
   "pygments_lexer": "ipython3",
   "version": "3.8.13"
  },
  "orig_nbformat": 4,
  "vscode": {
   "interpreter": {
    "hash": "4774e11bc94230fbd552f0cedba07848c67b493bb83ff5140fd93cc0e9d8c643"
   }
  }
 },
 "nbformat": 4,
 "nbformat_minor": 2
}
