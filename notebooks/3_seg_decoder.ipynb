{
 "cells": [
  {
   "cell_type": "markdown",
   "metadata": {},
   "source": [
    "# Segmentation of Medical Scans using Variational VAE's - Part 3/3\n",
    "This series of notebooks enables reproduceability of our final models and testing results.\n",
    "\n",
    "The third notebook goes through the process of creating, training and tuning a variational decoder, which will act as a segmenter.\n",
    "\n",
    "We import some necessary libraries, and check if our GPU is available, while also retrieving some system stats. We need a lot of RAM, because our selected datasets are very large. We setup up some global constants."
   ]
  },
  {
   "cell_type": "code",
   "execution_count": 1,
   "metadata": {},
   "outputs": [
    {
     "name": "stderr",
     "output_type": "stream",
     "text": [
      "c:\\Users\\dfels\\anaconda3\\envs\\torch_environment\\lib\\site-packages\\tqdm\\auto.py:22: TqdmWarning: IProgress not found. Please update jupyter and ipywidgets. See https://ipywidgets.readthedocs.io/en/stable/user_install.html\n",
      "  from .autonotebook import tqdm as notebook_tqdm\n"
     ]
    },
    {
     "name": "stdout",
     "output_type": "stream",
     "text": [
      "Using cuda\n",
      "NVIDIA GeForce RTX 2060 with Max-Q Design\n",
      "CUDA version: 11.7\n",
      "RAM: 33.74GB\n"
     ]
    }
   ],
   "source": [
    "# For ML\n",
    "import torch\n",
    "import torch.nn as nn\n",
    "import torch.nn.functional as F\n",
    "import torch.utils.data as D\n",
    "import torch.optim as optim\n",
    "from torch import Tensor\n",
    "\n",
    "# For displaying and evaluating results.\n",
    "import numpy as np\n",
    "from matplotlib import pyplot as plt\n",
    "\n",
    "# For monitoring resource-usage and progress.\n",
    "from timeit import default_timer as timer\n",
    "import psutil\n",
    "from os.path import join\n",
    "\n",
    "# Our own utility functions, constants and classes.\n",
    "from utility import CT_Dataset, superimpose, draw\n",
    "\n",
    "# Our own DL models.\n",
    "from models import VAEModel, SegmentationModel, Conv, ConvTranspose\n",
    "\n",
    "# Paths.\n",
    "root_dir = '../' # Relative to the working directory.\n",
    "raw_data_dir = join(root_dir, 'raw_data')\n",
    "prep_data_dir = join(root_dir, 'prep_data')\n",
    "losses_dir = join(root_dir, 'losses')\n",
    "models_dir = join(root_dir, 'saved_models')\n",
    "checkpoint_dir = join(root_dir, 'checkpoints')\n",
    "\n",
    "\n",
    "# Setting device on GPU if available, else CPU\n",
    "device = torch.device('cuda' if torch.cuda.is_available() else 'cpu')\n",
    "print('Using', device)\n",
    "\n",
    "if device.type == 'cuda':\n",
    "    print(torch.cuda.get_device_name(0))\n",
    "    print('CUDA version:', torch.version.cuda)\n",
    "\n",
    "available_ram = round(psutil.virtual_memory()[0]/1000000000,2)\n",
    "print('RAM: ' + str(available_ram) + 'GB')"
   ]
  },
  {
   "cell_type": "markdown",
   "metadata": {},
   "source": [
    "We define a new function to create dataloaders - This time splitting the dataset into a training-, development- and testing-set."
   ]
  },
  {
   "cell_type": "code",
   "execution_count": 2,
   "metadata": {},
   "outputs": [],
   "source": [
    "def make_seg_loaders(data, batch_size):\n",
    "    N = len(data); N_train = int(0.8*N); \n",
    "    N_dev = int((N - N_train)/2); N_test = int(N - N_train - N_dev)\n",
    "    train_data, dev_data, test_data = D.random_split(data, [N_train, N_dev, N_test])\n",
    "    train_loader = D.DataLoader(train_data, batch_size=batch_size, shuffle=True)\n",
    "    dev_loader = D.DataLoader(dev_data, batch_size=batch_size, shuffle=True)\n",
    "    test_loader = D.DataLoader(test_data, batch_size=batch_size, shuffle=True)\n",
    "    return train_loader, dev_loader, test_loader"
   ]
  },
  {
   "cell_type": "markdown",
   "metadata": {},
   "source": [
    "Once again, we create an instance of the full dataset, and pass it the dataloader creator. Naturally, we use the same resolution and batch-size."
   ]
  },
  {
   "cell_type": "code",
   "execution_count": 3,
   "metadata": {},
   "outputs": [],
   "source": [
    "resolution = 2**8; batch_size = 32;\n",
    "dataset = CT_Dataset(prep_data_dir, 'lung', resolution)\n",
    "train_loader, dev_loader, test_loader = make_seg_loaders(dataset, batch_size)"
   ]
  },
  {
   "cell_type": "markdown",
   "metadata": {},
   "source": [
    "This time, we simply use a binary-cross-entropy loss-function.\n",
    "\n",
    "We also define a training-routine for a single epoch, i.e. a full round of training data, as well as an evaluation routine. These routines are different from the routines in the previous notebook."
   ]
  },
  {
   "cell_type": "code",
   "execution_count": 77,
   "metadata": {},
   "outputs": [],
   "source": [
    "loss_fn = nn.BCELoss(reduction='sum') # reduction='sum' to make tumors more important.\n",
    "\n",
    "def train_epoch(vae_model, seg_model, optimizer, train_loader):\n",
    "    seg_model.train()\n",
    "    vae_model.eval()\n",
    "    losses = 0\n",
    "    \n",
    "    for batch in train_loader:\n",
    "        x = batch[0].to(device) # Batch of images.\n",
    "        y = batch[1].to(device) # Batch of labels.\n",
    "        optimizer.zero_grad()\n",
    "        z = vae_model.forward_latent(x) # Get latent vector from VAE.\n",
    "        y_hat = seg_model.forward(z) # Reconstruction from new decoder.\n",
    "        loss = loss_fn(y_hat, y) # Compare reconstruction to label.\n",
    "        loss.backward()\n",
    "        optimizer.step()\n",
    "        losses += loss.item()   \n",
    "    \n",
    "    return losses / len(train_loader)  # average loss\n",
    "\n",
    "def evaluate(vae_model, seg_model, dev_loader):\n",
    "    seg_model.eval()\n",
    "    vae_model.eval()\n",
    "    losses = 0\n",
    "\n",
    "    for data in dev_loader:\n",
    "        x = data[0].to(device)\n",
    "        y = data[1].to(device)\n",
    "        z = vae_model.forward_latent(x)\n",
    "        y_hat = seg_model.forward(z)\n",
    "        loss = loss_fn(y_hat, y)\n",
    "        losses += loss.item() \n",
    "    return losses / len(dev_loader)"
   ]
  },
  {
   "cell_type": "markdown",
   "metadata": {},
   "source": [
    "We load in our trained model, which we created in the previous notebook."
   ]
  },
  {
   "cell_type": "code",
   "execution_count": 78,
   "metadata": {},
   "outputs": [],
   "source": [
    "vae_model = torch.load(join(models_dir, 'vae_model.pt')).to(device)"
   ]
  },
  {
   "cell_type": "markdown",
   "metadata": {},
   "source": [
    "We create an untrained instance of our `SegmentationModel` class, which we have defined in the `models.py` file. We specify an optimizer, as well as a learning rate scheduler. Again, we found that the `AdamW` optimizer, which is Adam with weight-decay, works slightly better than regular `Adam`. "
   ]
  },
  {
   "cell_type": "code",
   "execution_count": 107,
   "metadata": {},
   "outputs": [
    {
     "data": {
      "text/plain": [
       "<All keys matched successfully>"
      ]
     },
     "execution_count": 107,
     "metadata": {},
     "output_type": "execute_result"
    }
   ],
   "source": [
    "seg_model = SegmentationModel(base=16).to(device)\n",
    "\n",
    "optimizer = optim.AdamW(seg_model.parameters(), lr=5e-3)\n",
    "scheduler = optim.lr_scheduler.StepLR(optimizer, step_size=10, gamma=0.6)\n",
    "\n",
    "a = vae_model.state_dict()\n",
    "b = seg_model.state_dict()\n",
    "\n",
    "for key in b:\n",
    "    b[key] = a[key]\n",
    "seg_model.load_state_dict(b)"
   ]
  },
  {
   "cell_type": "markdown",
   "metadata": {},
   "source": [
    "Training a single decoder is a lot faster than a full VAE, so we do not need checkpointing."
   ]
  },
  {
   "cell_type": "code",
   "execution_count": 112,
   "metadata": {},
   "outputs": [
    {
     "name": "stdout",
     "output_type": "stream",
     "text": [
      "Epoch 1:, Train-loss: 463.7081, Dev-loss: 577.0502, Epoch-time = 58.189s\n",
      "Epoch 2:, Train-loss: 463.0314, Dev-loss: 569.7976, Epoch-time = 58.552s\n",
      "Epoch 3:, Train-loss: 447.0540, Dev-loss: 536.1280, Epoch-time = 58.894s\n",
      "Epoch 4:, Train-loss: 463.6483, Dev-loss: 575.0859, Epoch-time = 58.982s\n",
      "Epoch 5:, Train-loss: 447.7964, Dev-loss: 563.9321, Epoch-time = 59.070s\n",
      "Epoch 6:, Train-loss: 455.6000, Dev-loss: 553.8924, Epoch-time = 59.143s\n",
      "Epoch 7:, Train-loss: 445.1437, Dev-loss: 595.3459, Epoch-time = 59.249s\n",
      "Epoch 8:, Train-loss: 453.2779, Dev-loss: 546.5738, Epoch-time = 59.034s\n",
      "Epoch 9:, Train-loss: 455.5361, Dev-loss: 600.1134, Epoch-time = 59.028s\n",
      "Epoch 10:, Train-loss: 456.6685, Dev-loss: 575.7604, Epoch-time = 59.053s\n",
      "Epoch 11:, Train-loss: 459.5847, Dev-loss: 564.9786, Epoch-time = 59.026s\n",
      "Epoch 12:, Train-loss: 442.9384, Dev-loss: 547.0142, Epoch-time = 59.025s\n",
      "Manually stopped.\n"
     ]
    }
   ],
   "source": [
    "total_epochs = 50\n",
    "\n",
    "#train_losses = []; dev_losses = []; lrs = []\n",
    "\n",
    "try:\n",
    "    for epoch in range(1, total_epochs+1):\n",
    "        lrs.append(optimizer.param_groups[0]['lr'])\n",
    "        start_time = timer()\n",
    "        train_loss = train_epoch(vae_model, seg_model, optimizer, train_loader)\n",
    "        train_losses.append(train_loss)\n",
    "        end_time = timer()\n",
    "        dev_loss = evaluate(vae_model, seg_model, dev_loader)\n",
    "        dev_losses.append(dev_loss)\n",
    "        scheduler.step()\n",
    "        \n",
    "        print((f\"Epoch {epoch}:, Train-loss: {train_loss:.4f}, Dev-loss: {dev_loss:.4f}, \"f\"Epoch-time = {(end_time - start_time):.3f}s\"))\n",
    "\n",
    "    print('Training completed.')\n",
    "    \n",
    "except KeyboardInterrupt:\n",
    "    print('Manually stopped.')"
   ]
  },
  {
   "cell_type": "markdown",
   "metadata": {},
   "source": [
    "We save the trained segmentation model along with loss metrics."
   ]
  },
  {
   "cell_type": "code",
   "execution_count": 111,
   "metadata": {},
   "outputs": [],
   "source": [
    "#CAREFUL NOT TO OVERWRITE.\n",
    "#torch.save(seg_model, join(models_dir, 'seg_model.pt')) \n",
    "#torch.save(train_losses, join(losses_dir, 'seg_train_losses.pt'))\n",
    "#torch.save(dev_losses, join(losses_dir, 'seg_dev_losses.pt'))"
   ]
  },
  {
   "cell_type": "code",
   "execution_count": 113,
   "metadata": {},
   "outputs": [],
   "source": [
    "seg_model = torch.load(join(models_dir, 'seg_model.pt')).to(device)\n",
    "train_losses = torch.load(join(losses_dir, 'seg_train_losses.pt'))\n",
    "dev_losses = torch.load(join(losses_dir, 'seg_dev_losses.pt'))"
   ]
  },
  {
   "cell_type": "code",
   "execution_count": 213,
   "metadata": {},
   "outputs": [],
   "source": [
    "'''' Segmentation evaluation '''\n",
    "eps = 1e-16\n",
    "def IoU(label, recon, thresh):\n",
    "    inter = ((label >= thresh) & (recon >= thresh)) * 1.0\n",
    "    union = ((label >= thresh) | (recon >= thresh)) * 1.0\n",
    "    return inter.sum() / (union.sum() + eps) / label.shape[0]\n",
    "\n",
    "def seg_evaluate(vae_model, seg_model, loader):\n",
    "    seg_model.eval()\n",
    "    vae_model.eval()\n",
    "    iou = 0\n",
    "    no_labels = 0\n",
    "\n",
    "    for data in loader:\n",
    "        x = data[0].to(device)\n",
    "        y = data[1].to(device)\n",
    "        if y.sum() != 0: # Only evaluate if there is a tumor.\n",
    "            z = vae_model.forward_latent(x)\n",
    "            y_hat = seg_model.forward(z)\n",
    "            iou += IoU(y, y_hat, 0.5)\n",
    "            no_labels += 1\n",
    "    return iou / no_labels # Average IoU"
   ]
  },
  {
   "cell_type": "code",
   "execution_count": 216,
   "metadata": {},
   "outputs": [
    {
     "data": {
      "text/plain": [
       "tensor(0.0213, device='cuda:0')"
      ]
     },
     "execution_count": 216,
     "metadata": {},
     "output_type": "execute_result"
    }
   ],
   "source": [
    "seg_evaluate(vae_model, seg_model, test_loader)"
   ]
  },
  {
   "cell_type": "code",
   "execution_count": 261,
   "metadata": {},
   "outputs": [
    {
     "data": {
      "image/png": "[encoded data removed]",
      "text/plain": [
       "<Figure size 800x500 with 1 Axes>"
      ]
     },
     "metadata": {},
     "output_type": "display_data"
    }
   ],
   "source": [
    "# Tell model to not update weights.\n",
    "from matplotlib.colors import ListedColormap\n",
    "cmap_label = ListedColormap(['none', 'green'])\n",
    "cmap_pred = ListedColormap(['none', 'red'])\n",
    "\n",
    "vae_model.eval()\n",
    "seg_model.eval()\n",
    "\n",
    "image, label = next(iter(dev_loader))\n",
    "\n",
    "x = image[1][None, :].to(device) # Batch of 1 image.\n",
    "y = label[1][None, :].to(device) # Batch of 1 label.\n",
    "\n",
    "z = vae_model.forward_latent(x)\n",
    "y_hat = seg_model.forward(z)\n",
    "\n",
    "truth = torch.squeeze(y.cpu()).detach().numpy()\n",
    "guess = (torch.squeeze(y_hat.cpu()).detach().numpy() > 0.5) * 1.0\n",
    "\n",
    "fig, ax = plt.subplots(figsize=(8,5))\n",
    "ax.imshow(truth, cmap='gray', vmin=0, vmax=1)\n",
    "#ax.imshow(guess, cmap='gray', vmin=0, vmax=1)\n",
    "fig.canvas.draw()"
   ]
  },
  {
   "cell_type": "code",
   "execution_count": 245,
   "metadata": {},
   "outputs": [],
   "source": [
    "torch.save(test_loader, '../prep_data/test_loader.pt')"
   ]
  }
 ],
 "metadata": {
  "kernelspec": {
   "display_name": "torch_environment",
   "language": "python",
   "name": "python3"
  },
  "language_info": {
   "codemirror_mode": {
    "name": "ipython",
    "version": 3
   },
   "file_extension": ".py",
   "mimetype": "text/x-python",
   "name": "python",
   "nbconvert_exporter": "python",
   "pygments_lexer": "ipython3",
   "version": "3.8.13"
  },
  "orig_nbformat": 4,
  "vscode": {
   "interpreter": {
    "hash": "4774e11bc94230fbd552f0cedba07848c67b493bb83ff5140fd93cc0e9d8c643"
   }
  }
 },
 "nbformat": 4,
 "nbformat_minor": 2
}
